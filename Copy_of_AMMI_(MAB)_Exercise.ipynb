{
  "nbformat": 4,
  "nbformat_minor": 0,
  "metadata": {
    "kernelspec": {
      "display_name": "Python 3",
      "language": "python",
      "name": "python3"
    },
    "language_info": {
      "codemirror_mode": {
        "name": "ipython",
        "version": 3
      },
      "file_extension": ".py",
      "mimetype": "text/x-python",
      "name": "python",
      "nbconvert_exporter": "python",
      "pygments_lexer": "ipython3",
      "version": "3.6.10"
    },
    "colab": {
      "name": "Copy of AMMI (MAB) Exercise.ipynb",
      "provenance": [],
      "collapsed_sections": [],
      "include_colab_link": true
    }
  },
  "cells": [
    {
      "cell_type": "markdown",
      "metadata": {
        "id": "view-in-github",
        "colab_type": "text"
      },
      "source": [
        "<a href=\"https://colab.research.google.com/github/Jean-KOUAGOU/AIMS-MCFDM2019/blob/master/Copy_of_AMMI_(MAB)_Exercise.ipynb\" target=\"_parent\"><img src=\"https://colab.research.google.com/assets/colab-badge.svg\" alt=\"Open In Colab\"/></a>"
      ]
    },
    {
      "cell_type": "code",
      "metadata": {
        "id": "zXdo08xU6aug",
        "colab_type": "code",
        "colab": {}
      },
      "source": [
        "!git clone https://github.com/rlgammazero/mvarl_hands_on.git > /dev/null 2>&1"
      ],
      "execution_count": 0,
      "outputs": []
    },
    {
      "cell_type": "code",
      "metadata": {
        "id": "az8z4Ddp6b5h",
        "colab_type": "code",
        "colab": {}
      },
      "source": [
        "import sys\n",
        "sys.path.insert(0, './mvarl_hands_on/exploration') "
      ],
      "execution_count": 0,
      "outputs": []
    },
    {
      "cell_type": "code",
      "metadata": {
        "id": "QYVut8IE6TCb",
        "colab_type": "code",
        "colab": {}
      },
      "source": [
        "import numpy as np\n",
        "import arms\n",
        "import matplotlib.pyplot as plt"
      ],
      "execution_count": 0,
      "outputs": []
    },
    {
      "cell_type": "markdown",
      "metadata": {
        "id": "Ty2Chp1i6TCk",
        "colab_type": "text"
      },
      "source": [
        "# Multi-Armed Bandits\n",
        "A MAB problem can be interpreted as a Markov Decision Process (MDP) with a single state and multiple actions (i.e., arms). At each round, the learning agent executes an action (i.e., arm) and observes a random realization of the reward associated to the arm. The goal is to find the arm with the highest mean reward"
      ]
    },
    {
      "cell_type": "markdown",
      "metadata": {
        "id": "hdCmDqwB6TCm",
        "colab_type": "text"
      },
      "source": [
        "A MAB problem is defined by $N$ arms. Each arm $i$ has an associated reward distribution $\\Lambda_i$ with mean $\\mu_i$.\n",
        "\n",
        "Let's define our first bandit problem"
      ]
    },
    {
      "cell_type": "code",
      "metadata": {
        "id": "rKZCltls6TCo",
        "colab_type": "code",
        "colab": {
          "base_uri": "https://localhost:8080/",
          "height": 51
        },
        "outputId": "c82f6566-632f-4483-d8c8-3e36d31ab2c9"
      },
      "source": [
        "# Build your own bandit problem\n",
        "arm1 = arms.ArmBernoulli(0.30)\n",
        "arm2 = arms.ArmBernoulli(0.45)\n",
        "arm3 = arms.ArmBernoulli(0.15)\n",
        "arm4 = arms.ArmBernoulli(0.10)\n",
        "\n",
        "MAB = [arm1, arm2, arm3, arm4]\n",
        "print (arm1.mean)\n",
        "print(arm1.sample())"
      ],
      "execution_count": 5,
      "outputs": [
        {
          "output_type": "stream",
          "text": [
            "0.3\n",
            "[ True]\n"
          ],
          "name": "stdout"
        }
      ]
    },
    {
      "cell_type": "code",
      "metadata": {
        "id": "U8MyO0lM6TCv",
        "colab_type": "code",
        "outputId": "9f938c05-7e16-4dbd-8e8b-ff4e440d6afe",
        "colab": {
          "base_uri": "https://localhost:8080/",
          "height": 51
        }
      },
      "source": [
        "nb_arms = len(MAB)\n",
        "means = [el.mean for el in MAB]\n",
        "\n",
        "# Display the means of your bandit (to find the best)\n",
        "print('means: {}'.format(means))\n",
        "mu_max = np.max(means)\n",
        "print('best arm: {}'.format(mu_max))\n",
        "\n",
        "# Parameters\n",
        "nb_repetitions = 40\n",
        "T = 500"
      ],
      "execution_count": 6,
      "outputs": [
        {
          "output_type": "stream",
          "text": [
            "means: [0.3, 0.45, 0.15, 0.1]\n",
            "best arm: 0.45\n"
          ],
          "name": "stdout"
        }
      ]
    },
    {
      "cell_type": "markdown",
      "metadata": {
        "id": "_o609SHX6TC0",
        "colab_type": "text"
      },
      "source": [
        "# Regret\n",
        "We evaluate exploration-exploitation algorithms based on the expected regret.\n",
        "The **expected regret** measures the difference between executing the optimal arm $a^\\star$ and following the learning agent:\n",
        "$$R(T) = \\mathbb{E}\\Big[\\sum_{t=1}^T \\mu^\\star - r_t \\Big]$$"
      ]
    },
    {
      "cell_type": "markdown",
      "metadata": {
        "id": "VAmsMfSu6TC-",
        "colab_type": "text"
      },
      "source": [
        "Algorithm and environment (MAB problem) are stochastic. We want to have meaningful results, thus we average over multiple runs."
      ]
    },
    {
      "cell_type": "markdown",
      "metadata": {
        "id": "gps2vLrJ6TDG",
        "colab_type": "text"
      },
      "source": [
        "# $\\epsilon$-Greedy\n",
        "This algorithm simply builds an estimate $\\hat{\\mu}_i$ of the mean reward of each arm and at each round it selects the action accorging to the following policy\n",
        "$$a_t = \\begin{cases}\n",
        "\\mathcal{U}(N) & \\text{ with probability }~\\epsilon\\\\\n",
        "\\arg\\max_{i} \\hat{\\mu}_i & \\text{ with probability }~1-\\epsilon\n",
        "\\end{cases}$$"
      ]
    },
    {
      "cell_type": "code",
      "metadata": {
        "id": "p1L10keq6TDH",
        "colab_type": "code",
        "outputId": "d37d0916-fb5b-45ad-842f-53a0c7288132",
        "colab": {
          "base_uri": "https://localhost:8080/",
          "height": 265
        }
      },
      "source": [
        "regret = np.zeros((nb_repetitions, T))\n",
        "epsilon = 0.1\n",
        "\n",
        "for it in range(nb_repetitions):\n",
        "    cum_rew = np.zeros((nb_arms,))\n",
        "    N = np.zeros((nb_arms,))\n",
        "    mu_hat = np.zeros((nb_arms,))\n",
        "\n",
        "    epsilon = epsilon/(it+1)\n",
        "    # implement epsilon greedy strategy \n",
        "    for tt in range(T):\n",
        "      #choose an arm\n",
        "      #sample from this arm\n",
        "      #update the statistics (mu_hat)\n",
        "\n",
        "      if epsilon > np.random.uniform(0, 1):\n",
        "        arm = np.random.choice(nb_arms)\n",
        "      else:\n",
        "        arm = mu_hat.argmax()\n",
        "\n",
        "      r = MAB[arm].sample()\n",
        "      cum_rew[arm] += r\n",
        "      N[arm] += 1\n",
        "      mu_hat[arm] = cum_rew[arm]/N[arm]\n",
        "      regret[it, tt] = mu_max-r\n",
        "\n",
        "    # to sample an arm/action:  MAB[arm].sample()\n",
        "    pass\n",
        "    \n",
        "cum_regret = np.cumsum(regret, axis=1)\n",
        "mean_regret = cum_regret.mean(axis=0)\n",
        "std = cum_regret.std(axis=0) / np.sqrt(nb_repetitions)\n",
        "\n",
        "plt.plot(mean_regret, label=\"$\\epsilon$-greedy\")\n",
        "plt.fill_between(np.arange(T), mean_regret + std, mean_regret - std, alpha=0.1)\n",
        "plt.legend()\n",
        "\n",
        "\n",
        "# save current regret\n",
        "regret_EPSGREEDY= mean_regret\n",
        "std_EPSGREEDY= std\n"
      ],
      "execution_count": 32,
      "outputs": [
        {
          "output_type": "display_data",
          "data": {
            "image/png": "[encoded data removed]",
            "text/plain": [
              "<Figure size 432x288 with 1 Axes>"
            ]
          },
          "metadata": {
            "tags": []
          }
        }
      ]
    },
    {
      "cell_type": "markdown",
      "metadata": {
        "id": "A5YwzXrF6TDL",
        "colab_type": "text"
      },
      "source": [
        "# The UCB1 algorithm\n",
        "\n",
        "The UCB1 algorithm is proposed by [Auer et al](https://homes.di.unimi.it/~cesabian/Pubblicazioni/ml-02.pdf) for bandit instances with bounded rewards (in $[0,1]$ to fix the ideas). One can extend it to depend on some parameter $\\alpha$: \n",
        "\n",
        "$$A_{t} = \\underset{a}{\\text{argmax}} \\left[\\hat{\\mu}_a(t-1) + \\sqrt{\\frac{\\alpha \\log(t)}{N_a(t-1)}}\\right],$$\n",
        "where $\\hat{\\mu}_a(t)$ is the empirical mean of arm $a$ after $t$ rounds and $N_a(t)$ is the number of selections of arm $a$ till that time. \n",
        "\n",
        "UCB1 was originally proposed with $\\alpha = 2$. Its analysis was later refined to allow for $\\alpha > 1/2$ (see [here](http://sbubeck.com/Bubeckthesis.pdf) or [here](https://hal.archives-ouvertes.fr/hal-00738209/file/klucb.pdf)).\n",
        "\n",
        "* Implement UCB($\\alpha$).\n"
      ]
    },
    {
      "cell_type": "code",
      "metadata": {
        "id": "4Z0WtEC56TDN",
        "colab_type": "code",
        "outputId": "a466e644-11c0-4517-9931-4e74278da25e",
        "colab": {
          "base_uri": "https://localhost:8080/",
          "height": 265
        }
      },
      "source": [
        "regret = np.zeros((nb_repetitions, T))\n",
        "alpha = 0.5\n",
        "\n",
        "\n",
        "for it in range(nb_repetitions):\n",
        "    cum_rew = np.zeros((nb_arms,))\n",
        "    N = np.zeros((nb_arms,))\n",
        "    mu_hat = np.zeros((nb_arms,))\n",
        "    confidence_bound = np.inf*np.ones(nb_arms)\n",
        "    # implement UCB\n",
        "    for tt in range(T):\n",
        "      mu_hat = cum_rew/np.maximum(N, 1)\n",
        "      a = np.argmax(mu_hat + confidence_bound)\n",
        "      r = MAB[a].sample()\n",
        "      cum_rew[a] += r\n",
        "      N[a] += 1\n",
        "      mu_hat[a] = cum_rew[a]/N[a]\n",
        "      confidence_bound[a]  = np.sqrt(alpha*np.log(tt+1)/N[a])\n",
        "      regret[it, tt] = mu_max-MAB[a].mean\n",
        "    \n",
        "cum_regret = np.cumsum(regret, axis=1)\n",
        "mean_regret = cum_regret.mean(axis=0)\n",
        "std = cum_regret.std(axis=0) / np.sqrt(nb_repetitions)\n",
        "\n",
        "plt.plot(mean_regret, label=\"UCB\")\n",
        "plt.fill_between(np.arange(T), mean_regret + std, mean_regret - std, alpha=0.1)\n",
        "plt.legend()\n",
        "\n",
        "\n",
        "# save current regret\n",
        "regret_UCB = mean_regret\n",
        "std_UCB= std"
      ],
      "execution_count": 33,
      "outputs": [
        {
          "output_type": "display_data",
          "data": {
            "image/png": "[encoded data removed]",
            "text/plain": [
              "<Figure size 432x288 with 1 Axes>"
            ]
          },
          "metadata": {
            "tags": []
          }
        }
      ]
    },
    {
      "cell_type": "markdown",
      "metadata": {
        "id": "LIebjN5V6TDS",
        "colab_type": "text"
      },
      "source": [
        "Plot all the algorithms"
      ]
    },
    {
      "cell_type": "code",
      "metadata": {
        "id": "S2kIK6TS6TDU",
        "colab_type": "code",
        "outputId": "ee7601c9-e855-4645-e365-0b9b191a0ea4",
        "colab": {
          "base_uri": "https://localhost:8080/",
          "height": 500
        }
      },
      "source": [
        "plt.figure(figsize=(10,8))\n",
        "plt.plot(regret_EPSGREEDY, label=\"$\\epsilon$-greedy\")\n",
        "plt.fill_between(np.arange(T), regret_EPSGREEDY + std_EPSGREEDY, regret_EPSGREEDY - std_EPSGREEDY, alpha=0.1)\n",
        "plt.plot(regret_UCB, label=\"UCB\")\n",
        "plt.fill_between(np.arange(T), regret_UCB + std_UCB, regret_UCB - std_UCB, alpha=0.1)\n",
        "plt.legend()"
      ],
      "execution_count": 34,
      "outputs": [
        {
          "output_type": "execute_result",
          "data": {
            "text/plain": [
              "<matplotlib.legend.Legend at 0x7f844ff55cf8>"
            ]
          },
          "metadata": {
            "tags": []
          },
          "execution_count": 34
        },
        {
          "output_type": "display_data",
          "data": {
            "image/png": "[encoded data removed]",
            "text/plain": [
              "<Figure size 720x576 with 1 Axes>"
            ]
          },
          "metadata": {
            "tags": []
          }
        }
      ]
    },
    {
      "cell_type": "code",
      "metadata": {
        "id": "NHKjdcD76TDZ",
        "colab_type": "code",
        "colab": {}
      },
      "source": [
        ""
      ],
      "execution_count": 0,
      "outputs": []
    }
  ]
}