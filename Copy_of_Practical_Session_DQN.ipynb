{
  "nbformat": 4,
  "nbformat_minor": 0,
  "metadata": {
    "kernelspec": {
      "display_name": "Python 3",
      "language": "python",
      "name": "python3"
    },
    "language_info": {
      "codemirror_mode": {
        "name": "ipython",
        "version": 3
      },
      "file_extension": ".py",
      "mimetype": "text/x-python",
      "name": "python",
      "nbconvert_exporter": "python",
      "pygments_lexer": "ipython3",
      "version": "3.7.6"
    },
    "colab": {
      "name": "Copy of Practical Session DQN.ipynb",
      "provenance": [],
      "collapsed_sections": [],
      "include_colab_link": true
    }
  },
  "cells": [
    {
      "cell_type": "markdown",
      "metadata": {
        "id": "view-in-github",
        "colab_type": "text"
      },
      "source": [
        "<a href=\"https://colab.research.google.com/github/Jean-KOUAGOU/AIMS-MCFDM2019/blob/master/Copy_of_Practical_Session_DQN.ipynb\" target=\"_parent\"><img src=\"https://colab.research.google.com/assets/colab-badge.svg\" alt=\"Open In Colab\"/></a>"
      ]
    },
    {
      "cell_type": "markdown",
      "metadata": {
        "id": "opZzyYN7fwxD",
        "colab_type": "text"
      },
      "source": [
        "## Colab setup"
      ]
    },
    {
      "cell_type": "code",
      "metadata": {
        "id": "rbV50a2jfwxJ",
        "colab_type": "code",
        "colab": {}
      },
      "source": [
        "!pip install gym > /dev/null 2>&1"
      ],
      "execution_count": 0,
      "outputs": []
    },
    {
      "cell_type": "code",
      "metadata": {
        "id": "nA_0eutEfwxS",
        "colab_type": "code",
        "colab": {}
      },
      "source": [
        "!pip install gym pyvirtualdisplay > /dev/null 2>&1\n",
        "!apt-get install -y xvfb python-opengl ffmpeg > /dev/null 2>&1"
      ],
      "execution_count": 0,
      "outputs": []
    },
    {
      "cell_type": "code",
      "metadata": {
        "id": "JqhcwbE3fwxX",
        "colab_type": "code",
        "colab": {
          "base_uri": "https://localhost:8080/",
          "height": 34
        },
        "outputId": "1ae2524a-c2f9-45be-d5ca-1a165695c70a"
      },
      "source": [
        "!apt-get update > /dev/null 2>&1\n",
        "!apt-get install cmake > /dev/null 2>&1\n",
        "!pip install --upgrade setuptools 2>&1\n",
        "!pip install ez_setup > /dev/null 2>&1"
      ],
      "execution_count": 3,
      "outputs": [
        {
          "output_type": "stream",
          "text": [
            "Requirement already up-to-date: setuptools in /usr/local/lib/python3.6/dist-packages (45.2.0)\n"
          ],
          "name": "stdout"
        }
      ]
    },
    {
      "cell_type": "markdown",
      "metadata": {
        "id": "FFQNOxGsfwxc",
        "colab_type": "text"
      },
      "source": [
        "# Deep Q-Learning (DQN)\n",
        "\n",
        "\n",
        "In DQN, the $Q$-function is parameterized by a neural network of parameters $\\theta$. The network takes as input a state $s$ and outputs $Q(s, a, \\theta)$ for all actions $a$. \n",
        "\n",
        "The network is trained in way that is similar to Fitted Q Iteration. At each time $T$, the agent has observed the transitions $(s_t, a_t, r_t, s_t')_{t=1}^T$, which are stored in a __replay buffer__.\n",
        "\n",
        "In addition to the network with parameters $\\theta$, DQN keeps another network with the same architecture and parameters $\\tilde{\\theta}$, called __target network__. \n",
        "To update the parameters $\\theta$, we sample $N$ transitions from the __replay buffer__, we define the loss \n",
        "\n",
        "$$\n",
        "L(\\theta) = \\sum_{i=1}^N [Q(s_i, a_i, \\theta) - (r_i + \\gamma\\max_{a'}Q(s'_i,a', \\tilde{\\theta}))]^2\n",
        "$$\n",
        "\n",
        "and update \n",
        "\n",
        "$$\n",
        "\\theta \\gets \\theta + \\eta \\nabla L(\\theta).\n",
        "$$\n",
        "\n",
        "\n",
        "Every $C$ iterations, the target network is updated as $\\tilde{\\theta} \\gets \\theta$. \n",
        "\n",
        "At each time $t$, DQN updates the networks as described above, selects an action according to an $\\epsilon$-greedy policy, plays the action and stores the new data in the replay buffer."
      ]
    },
    {
      "cell_type": "code",
      "metadata": {
        "id": "RrBtkvHqfwxe",
        "colab_type": "code",
        "colab": {}
      },
      "source": [
        "# Imports\n",
        "import torch\n",
        "import torch.nn as nn\n",
        "import torch.nn.functional as F\n",
        "import torch.optim as optim\n",
        "import numpy as np\n",
        "import random\n",
        "from copy import deepcopy\n",
        "\n",
        "import gym\n",
        "from gym import logger as gymlogger\n",
        "from gym.wrappers import Monitor\n",
        "gymlogger.set_level(40) #error only\n",
        "\n",
        "from pyvirtualdisplay import Display\n",
        "from IPython import display as ipythondisplay\n",
        "from IPython.display import clear_output\n",
        "from pathlib import Path\n",
        "\n",
        "import random, os.path, math, glob, csv, base64, itertools, sys\n",
        "from pprint import pprint\n",
        "\n",
        "import matplotlib\n",
        "import matplotlib.pyplot as plt\n",
        "%matplotlib inline\n",
        "import io\n",
        "from IPython.display import HTML"
      ],
      "execution_count": 0,
      "outputs": []
    },
    {
      "cell_type": "markdown",
      "metadata": {
        "id": "rz3beIAHfwxi",
        "colab_type": "text"
      },
      "source": [
        "## Step 1: Define the parameters"
      ]
    },
    {
      "cell_type": "code",
      "metadata": {
        "id": "SV7lKaVGfwxj",
        "colab_type": "code",
        "colab": {}
      },
      "source": [
        "# Environment\n",
        "env = gym.make(\"CartPole-v0\")\n",
        "\n",
        "# Discount factor\n",
        "GAMMA = 0.99\n",
        "\n",
        "# Batch size\n",
        "BATCH_SIZE = 256\n",
        "# Capacity of the replay buffer\n",
        "BUFFER_CAPACITY = 10000\n",
        "# Update target net every ... episodes\n",
        "UPDATE_TARGET_EVERY = 20\n",
        "\n",
        "# Initial value of epsilon\n",
        "EPSILON_START = 1.0\n",
        "# Parameter to decrease epsilon\n",
        "DECREASE_EPSILON = 200\n",
        "# Minimum value of epislon\n",
        "EPSILON_MIN = 0.05\n",
        "\n",
        "# Number of training episodes\n",
        "N_EPISODES = 200\n",
        "\n",
        "# Learning rate\n",
        "LEARNING_RATE = 0.1"
      ],
      "execution_count": 0,
      "outputs": []
    },
    {
      "cell_type": "markdown",
      "metadata": {
        "id": "B4fVXZSafwxo",
        "colab_type": "text"
      },
      "source": [
        "## Step 2: Define the replay buffer"
      ]
    },
    {
      "cell_type": "code",
      "metadata": {
        "id": "aH1tb1wIfwxp",
        "colab_type": "code",
        "colab": {}
      },
      "source": [
        "class ReplayBuffer:\n",
        "    def __init__(self, capacity):\n",
        "        self.capacity = capacity\n",
        "        self.memory = []\n",
        "        self.position = 0\n",
        "\n",
        "    def push(self, state, action, reward, next_state):\n",
        "        \"\"\"Saves a transition.\"\"\"\n",
        "        if len(self.memory) < self.capacity:\n",
        "            self.memory.append(None)\n",
        "        self.memory[self.position] = (state, action, reward, next_state)\n",
        "        self.position = (self.position + 1) % self.capacity\n",
        "\n",
        "    def sample(self, batch_size):\n",
        "        return random.sample(self.memory, batch_size)\n",
        "\n",
        "    def __len__(self):\n",
        "        return len(self.memory)"
      ],
      "execution_count": 0,
      "outputs": []
    },
    {
      "cell_type": "code",
      "metadata": {
        "id": "QFgVBS8Gfwxt",
        "colab_type": "code",
        "colab": {}
      },
      "source": [
        "# create instance of replay buffer\n",
        "replay_buffer = ReplayBuffer(BUFFER_CAPACITY)"
      ],
      "execution_count": 0,
      "outputs": []
    },
    {
      "cell_type": "markdown",
      "metadata": {
        "id": "o6ki1HpXfwxw",
        "colab_type": "text"
      },
      "source": [
        "## Step 3: Define the neural network architecture, objective and optimizer"
      ]
    },
    {
      "cell_type": "code",
      "metadata": {
        "id": "pP2R3fZ8fwxy",
        "colab_type": "code",
        "colab": {}
      },
      "source": [
        "class Net(nn.Module):\n",
        "    \"\"\"\n",
        "    Basic neural net.\n",
        "    \"\"\"\n",
        "    def __init__(self, obs_size, hidden_size, n_actions):\n",
        "        super(Net, self).__init__()\n",
        "        self.net = nn.Sequential(\n",
        "            nn.Linear(obs_size, hidden_size),\n",
        "            nn.ReLU(),\n",
        "            nn.Linear(hidden_size, n_actions)\n",
        "        )\n",
        "\n",
        "    def forward(self, x):\n",
        "        return self.net(x)"
      ],
      "execution_count": 0,
      "outputs": []
    },
    {
      "cell_type": "code",
      "metadata": {
        "id": "c_Oz9uvzfwx2",
        "colab_type": "code",
        "colab": {}
      },
      "source": [
        "# create network and target network\n",
        "hidden_size = 128\n",
        "obs_size = env.observation_space.shape[0]\n",
        "n_actions = env.action_space.n\n",
        "\n",
        "q_net = Net(obs_size, hidden_size, n_actions)\n",
        "target_net = Net(obs_size, hidden_size, n_actions)\n",
        "\n",
        "# objective and optimizer\n",
        "objective = nn.MSELoss()\n",
        "optimizer = optim.Adam(params=q_net.parameters(), lr=LEARNING_RATE)"
      ],
      "execution_count": 0,
      "outputs": []
    },
    {
      "cell_type": "markdown",
      "metadata": {
        "id": "IYeNGkE0fwx5",
        "colab_type": "text"
      },
      "source": [
        "## Step 4: Implement DQN"
      ]
    },
    {
      "cell_type": "code",
      "metadata": {
        "id": "EQqeJNoOfwx7",
        "colab_type": "code",
        "colab": {}
      },
      "source": [
        "#\n",
        "#  Some useful functions\n",
        "#\n",
        "\n",
        "def get_q(states):\n",
        "    \"\"\"\n",
        "    Compute Q function for a list of states\n",
        "    \"\"\"\n",
        "    with torch.no_grad():\n",
        "        states_v = torch.FloatTensor([states])\n",
        "        output = q_net.forward(states_v).data.numpy()  # shape (1, len(states), n_actions)\n",
        "    return output[0, :, :]  # shape (len(states), n_actions)\n",
        "\n",
        "def eval_dqn(n_sim=5):\n",
        "    \"\"\"\n",
        "    Monte Carlo evaluation of DQN agent\n",
        "    \"\"\"\n",
        "    rewards = np.zeros(n_sim)\n",
        "    \n",
        "    return rewards"
      ],
      "execution_count": 0,
      "outputs": []
    },
    {
      "cell_type": "code",
      "metadata": {
        "id": "nvgkbH0Vfwx-",
        "colab_type": "code",
        "colab": {}
      },
      "source": [
        "def choose_action(state, epsilon):\n",
        "    \"\"\"\n",
        "    TO BE IMPLEMENTED\n",
        "    \n",
        "    Return action according to an epsilon-greedy exploration policy\n",
        "    \"\"\"\n",
        "    q_state = get_q([state])[0]\n",
        "    if np.random.uniform(0,1) < epsilon:\n",
        "      action = env.action_space.sample()\n",
        "    else:\n",
        "      action = q_state.argmax()\n",
        "    #print(q_state)\n",
        "    return action\n",
        "    \n",
        "\n",
        "def update(state, action, reward, next_state, done):\n",
        "    \"\"\"\n",
        "    TO BE COMPLETED\n",
        "    \"\"\"\n",
        "    \n",
        "    # add data to replay buffer\n",
        "    if done:\n",
        "        next_state = None\n",
        "    replay_buffer.push(state, action, reward, next_state)\n",
        "    \n",
        "    if len(replay_buffer) < BATCH_SIZE:\n",
        "        return np.inf\n",
        "    \n",
        "    # get batch\n",
        "    #transition = list of (state, action, reward, next_state)\n",
        "    transitions = replay_buffer.sample(BATCH_SIZE)\n",
        "\n",
        "    # First thing to do: compute Q(s_i, a_i) for all (s_i, a_i) in the batch\n",
        "\n",
        "    #Build a tensor with s_i and a tensor with a_i\n",
        "    batch_states = torch.FloatTensor(\n",
        "        [transitions[ii][0] for ii in range(BATCH_SIZE)]\n",
        "    )\n",
        "    batch_actions = torch.LongTensor(\n",
        "        [transitions[ii][1] for ii in range(BATCH_SIZE)]\n",
        "    )\n",
        "    batch_rewards = torch.FloatTensor(\n",
        "        [transitions[ii][2] for ii in range(BATCH_SIZE)]\n",
        "    )\n",
        "   # batch_next_states = torch.zeros((BATCH_SIZE, obs_size))\n",
        "\n",
        "    non_final_mask = torch.tensor([(transitions[ii][3] is not None) for ii in range(BATCH_SIZE)], dtype = torch.bool)\n",
        "    non_final_next_states = torch.FloatTensor([transitions[ii][3] for ii in range(BATCH_SIZE) if transitions[ii][3] is not None])\n",
        "    next_state_values = torch.zeros(BATCH_SIZE)\n",
        "    next_state_values[non_final_mask] = target_net(non_final_next_states).max(1)[0].detach()\n",
        "\n",
        "    state_action_values = q_net(batch_states).gather(1, batch_actions.view(-1, 1))\n",
        "    # Compute loss - TO BE IMPLEMENTED!\n",
        "    values  = state_action_values \n",
        "    targets = batch_rewards+GAMMA*next_state_values   # to be computed using batch\n",
        "    loss = objective(values, targets.unsqueeze(1))\n",
        "     \n",
        "    # Optimize the model - UNCOMMENT!\n",
        "    optimizer.zero_grad()\n",
        "    loss.backward()\n",
        "    optimizer.step()\n",
        "    \n",
        "    return loss.data.numpy()"
      ],
      "execution_count": 0,
      "outputs": []
    },
    {
      "cell_type": "code",
      "metadata": {
        "id": "qUzuCwdcfwyC",
        "colab_type": "code",
        "outputId": "1d2c6ecd-2b8f-465e-c496-5da0e747cdb9",
        "colab": {
          "base_uri": "https://localhost:8080/",
          "height": 731
        }
      },
      "source": [
        "#\n",
        "# Train\n",
        "# \n",
        "\n",
        "EVAL_EVERY = 5\n",
        "REWARD_THRESHOLD = 199\n",
        "\n",
        "def train():\n",
        "    state = env.reset()\n",
        "    epsilon = EPSILON_START\n",
        "    ep = 0\n",
        "    total_time = 0\n",
        "    while ep < N_EPISODES:\n",
        "        action = choose_action(state, epsilon) # eps-greedy \n",
        "\n",
        "        # take action and update replay buffer and networks\n",
        "        next_state, reward, done, _ = env.step(action)\n",
        "        loss = update(state, action, reward, next_state, done)\n",
        "\n",
        "        # update state\n",
        "        state = next_state\n",
        "\n",
        "        # end episode if done\n",
        "        if done:\n",
        "            state = env.reset()\n",
        "            ep   += 1\n",
        "            if ( (ep+1)% EVAL_EVERY == 0):\n",
        "                rewards = eval_dqn()\n",
        "                print(\"episode =\", ep+1, \", reward = \", np.mean(rewards))\n",
        "                if np.mean(rewards) >= REWARD_THRESHOLD:\n",
        "                    break\n",
        "\n",
        "            # update target network\n",
        "            if ep % UPDATE_TARGET_EVERY == 0:\n",
        "                target_net.load_state_dict(q_net.state_dict())\n",
        "            # decrease epsilon\n",
        "            epsilon = EPSILON_MIN + (EPSILON_START - EPSILON_MIN) * \\\n",
        "                            np.exp(-1. * ep / DECREASE_EPSILON )    \n",
        "\n",
        "        total_time += 1\n",
        "\n",
        "train()\n",
        "rewards = eval_dqn(20)\n",
        "print(\"\")\n",
        "print(\"mean reward after training = \", np.mean(rewards))"
      ],
      "execution_count": 16,
      "outputs": [
        {
          "output_type": "stream",
          "text": [
            "episode = 5 , reward =  0.0\n",
            "episode = 10 , reward =  0.0\n",
            "episode = 15 , reward =  0.0\n",
            "episode = 20 , reward =  0.0\n",
            "episode = 25 , reward =  0.0\n",
            "episode = 30 , reward =  0.0\n",
            "episode = 35 , reward =  0.0\n",
            "episode = 40 , reward =  0.0\n",
            "episode = 45 , reward =  0.0\n",
            "episode = 50 , reward =  0.0\n",
            "episode = 55 , reward =  0.0\n",
            "episode = 60 , reward =  0.0\n",
            "episode = 65 , reward =  0.0\n",
            "episode = 70 , reward =  0.0\n",
            "episode = 75 , reward =  0.0\n",
            "episode = 80 , reward =  0.0\n",
            "episode = 85 , reward =  0.0\n",
            "episode = 90 , reward =  0.0\n",
            "episode = 95 , reward =  0.0\n",
            "episode = 100 , reward =  0.0\n",
            "episode = 105 , reward =  0.0\n",
            "episode = 110 , reward =  0.0\n",
            "episode = 115 , reward =  0.0\n",
            "episode = 120 , reward =  0.0\n",
            "episode = 125 , reward =  0.0\n",
            "episode = 130 , reward =  0.0\n",
            "episode = 135 , reward =  0.0\n",
            "episode = 140 , reward =  0.0\n",
            "episode = 145 , reward =  0.0\n",
            "episode = 150 , reward =  0.0\n",
            "episode = 155 , reward =  0.0\n",
            "episode = 160 , reward =  0.0\n",
            "episode = 165 , reward =  0.0\n",
            "episode = 170 , reward =  0.0\n",
            "episode = 175 , reward =  0.0\n",
            "episode = 180 , reward =  0.0\n",
            "episode = 185 , reward =  0.0\n",
            "episode = 190 , reward =  0.0\n",
            "episode = 195 , reward =  0.0\n",
            "episode = 200 , reward =  0.0\n",
            "\n",
            "mean reward after training =  0.0\n"
          ],
          "name": "stdout"
        }
      ]
    },
    {
      "cell_type": "markdown",
      "metadata": {
        "id": "nhWv6ThkfwyG",
        "colab_type": "text"
      },
      "source": [
        "## Visualizing the agent"
      ]
    },
    {
      "cell_type": "code",
      "metadata": {
        "id": "n0sGUpzJfwyH",
        "colab_type": "code",
        "outputId": "c45b7486-cf84-44cc-8da2-e816774c6e11",
        "colab": {
          "base_uri": "https://localhost:8080/",
          "height": 71
        }
      },
      "source": [
        "def show_video(directory):\n",
        "    html = []\n",
        "    for mp4 in Path(directory).glob(\"*.mp4\"):\n",
        "        video_b64 = base64.b64encode(mp4.read_bytes())\n",
        "        html.append('''<video alt=\"{}\" autoplay \n",
        "                      loop controls style=\"height: 400px;\">\n",
        "                      <source src=\"data:video/mp4;base64,{}\" type=\"video/mp4\" />\n",
        "                 </video>'''.format(mp4, video_b64.decode('ascii')))\n",
        "    ipythondisplay.display(ipythondisplay.HTML(data=\"<br>\".join(html)))\n",
        "    \n",
        "def make_seed(seed):\n",
        "    np.random.seed(seed=seed)\n",
        "    torch.manual_seed(seed=seed)\n",
        "  \n",
        "from pyvirtualdisplay import Display\n",
        "display = Display(visible=0, size=(1400, 900))\n",
        "display.start()"
      ],
      "execution_count": 13,
      "outputs": [
        {
          "output_type": "stream",
          "text": [
            "xdpyinfo was not found, X start can not be checked! Please install xdpyinfo!\n"
          ],
          "name": "stderr"
        },
        {
          "output_type": "execute_result",
          "data": {
            "text/plain": [
              "<Display cmd_param=['Xvfb', '-br', '-nolisten', 'tcp', '-screen', '0', '1400x900x24', ':1001'] cmd=['Xvfb', '-br', '-nolisten', 'tcp', '-screen', '0', '1400x900x24', ':1001'] oserror=None return_code=None stdout=\"None\" stderr=\"None\" timeout_happened=False>"
            ]
          },
          "metadata": {
            "tags": []
          },
          "execution_count": 13
        }
      ]
    },
    {
      "cell_type": "code",
      "metadata": {
        "id": "b2Fhe2iefwyM",
        "colab_type": "code",
        "outputId": "f2b35b0d-e9f6-4ed2-d885-01146f3aed7f",
        "colab": {
          "base_uri": "https://localhost:8080/",
          "height": 421
        }
      },
      "source": [
        "env = Monitor(env, \"./gym-results\", force=True, video_callable=lambda episode: True)\n",
        "for episode in range(1):\n",
        "    done = False\n",
        "    state = env.reset()\n",
        "    while not done:\n",
        "        action = env.action_space.sample() # MODIFY THIS PART TO COMPUTE THE ACTION WITH DQN\n",
        "        state, reward, done, info = env.step(action)\n",
        "env.close()\n",
        "show_video(\"./gym-results\")"
      ],
      "execution_count": 14,
      "outputs": [
        {
          "output_type": "display_data",
          "data": {
            "text/html": [
              "<video alt=\"gym-results/openaigym.video.0.3640.video000000.mp4\" autoplay \n",
              "                      loop controls style=\"height: 400px;\">\n",
              "                      <source src=\"data:video/mp4;base64,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\" type=\"video/mp4\" />\n",
              "                 </video>"
            ],
            "text/plain": [
              "<IPython.core.display.HTML object>"
            ]
          },
          "metadata": {
            "tags": []
          }
        }
      ]
    },
    {
      "cell_type": "code",
      "metadata": {
        "id": "3ATApTg69kf4",
        "colab_type": "code",
        "colab": {}
      },
      "source": [
        ""
      ],
      "execution_count": 0,
      "outputs": []
    }
  ]
}