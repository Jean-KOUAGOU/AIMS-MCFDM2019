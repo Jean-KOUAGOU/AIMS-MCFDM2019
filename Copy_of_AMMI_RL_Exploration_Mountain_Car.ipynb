{
  "nbformat": 4,
  "nbformat_minor": 0,
  "metadata": {
    "kernelspec": {
      "display_name": "Python 3",
      "language": "python",
      "name": "python3"
    },
    "language_info": {
      "codemirror_mode": {
        "name": "ipython",
        "version": 3
      },
      "file_extension": ".py",
      "mimetype": "text/x-python",
      "name": "python",
      "nbconvert_exporter": "python",
      "pygments_lexer": "ipython3",
      "version": "3.8.1"
    },
    "colab": {
      "name": "Copy of AMMI RL - Exploration - Mountain Car.ipynb",
      "provenance": [],
      "collapsed_sections": [],
      "include_colab_link": true
    }
  },
  "cells": [
    {
      "cell_type": "markdown",
      "metadata": {
        "id": "view-in-github",
        "colab_type": "text"
      },
      "source": [
        "<a href=\"https://colab.research.google.com/github/Jean-KOUAGOU/AIMS-MCFDM2019/blob/master/Copy_of_AMMI_RL_Exploration_Mountain_Car.ipynb\" target=\"_parent\"><img src=\"https://colab.research.google.com/assets/colab-badge.svg\" alt=\"Open In Colab\"/></a>"
      ]
    },
    {
      "cell_type": "code",
      "metadata": {
        "id": "780D9u4ZZxWo",
        "colab_type": "code",
        "colab": {}
      },
      "source": [
        "!pip install gym > /dev/null 2>&1"
      ],
      "execution_count": 0,
      "outputs": []
    },
    {
      "cell_type": "code",
      "metadata": {
        "id": "x20JG4VuaEND",
        "colab_type": "code",
        "colab": {}
      },
      "source": [
        "!pip install gym pyvirtualdisplay > /dev/null 2>&1\n",
        "!apt-get install -y xvfb python-opengl ffmpeg > /dev/null 2>&1"
      ],
      "execution_count": 0,
      "outputs": []
    },
    {
      "cell_type": "code",
      "metadata": {
        "id": "E46IaY_5aEtf",
        "colab_type": "code",
        "outputId": "215a9283-d4d9-4dc4-9489-a86a76b761ab",
        "colab": {
          "base_uri": "https://localhost:8080/",
          "height": 34
        }
      },
      "source": [
        "!apt-get update > /dev/null 2>&1\n",
        "!apt-get install cmake > /dev/null 2>&1\n",
        "!pip install --upgrade setuptools 2>&1\n",
        "!pip install ez_setup > /dev/null 2>&1"
      ],
      "execution_count": 3,
      "outputs": [
        {
          "output_type": "stream",
          "text": [
            "Requirement already up-to-date: setuptools in /usr/local/lib/python3.6/dist-packages (45.2.0)\n"
          ],
          "name": "stdout"
        }
      ]
    },
    {
      "cell_type": "code",
      "metadata": {
        "id": "_UWM-gGi76pF",
        "colab_type": "code",
        "colab": {}
      },
      "source": [
        "!git clone https://github.com/rlgammazero/mvarl_hands_on.git > /dev/null 2>&1"
      ],
      "execution_count": 0,
      "outputs": []
    },
    {
      "cell_type": "code",
      "metadata": {
        "id": "J5EbzJ1A78Bk",
        "colab_type": "code",
        "colab": {}
      },
      "source": [
        "import sys\n",
        "sys.path.insert(0, './mvarl_hands_on/utils')"
      ],
      "execution_count": 0,
      "outputs": []
    },
    {
      "cell_type": "code",
      "metadata": {
        "id": "KDPYhYvR7yKZ",
        "colab_type": "code",
        "colab": {}
      },
      "source": [
        "import numpy as np\n",
        "import cvxpy as cp\n",
        "import matplotlib.pyplot as plt\n",
        "%matplotlib inline\n",
        "\n",
        "import gym\n",
        "from gym import logger as gymlogger\n",
        "from gym.wrappers import Monitor\n",
        "gymlogger.set_level(40) #error only\n",
        "\n",
        "import seaborn as sns\n",
        "from pyvirtualdisplay import Display\n",
        "from IPython import display as ipythondisplay\n",
        "from IPython.display import clear_output\n",
        "from pathlib import Path\n",
        "\n",
        "import random, os.path, math, glob, csv, base64, itertools, sys\n",
        "from pprint import pprint\n",
        "\n",
        "import matplotlib\n",
        "import matplotlib.pyplot as plt\n",
        "%matplotlib inline\n",
        "import io\n",
        "from IPython.display import HTML\n",
        "\n",
        "from copy import deepcopy"
      ],
      "execution_count": 0,
      "outputs": []
    },
    {
      "cell_type": "markdown",
      "metadata": {
        "id": "S5twn7Qv7yKf",
        "colab_type": "text"
      },
      "source": [
        "# Discretization of the state space"
      ]
    },
    {
      "cell_type": "code",
      "metadata": {
        "id": "f3WTC2o2coW_",
        "colab_type": "code",
        "colab": {}
      },
      "source": [
        "from discretization import Discretizer\n",
        "\n",
        "class DiscretizedMountainCar(gym.Wrapper):\n",
        "    def __init__(self, n_bins):\n",
        "        env_id = 'MountainCar-v0' \n",
        "        env = gym.make(env_id)\n",
        "        self.env = env\n",
        "        super().__init__(env)\n",
        "        self.min_reward = -1.0\n",
        "        self.max_reward = 0.0\n",
        "\n",
        "        LM = env.observation_space.low\n",
        "        HM = env.observation_space.high\n",
        "        D = len(HM)\n",
        "\n",
        "        bins = []\n",
        "        for i in range(D):\n",
        "            V = np.linspace(LM[i], HM[i], n_bins)\n",
        "            bins.append(V[1:-1])\n",
        "        self.grid = Discretizer(bins=bins)\n",
        "\n",
        "        # Number of states\n",
        "        self.S = self.grid.n_bins()\n",
        "        # Number of actions\n",
        "        self.A = self.env.action_space.n\n",
        "\n",
        "    def step(self, action):\n",
        "        next_state, reward, done, info = self.env.step(action)\n",
        "        reward = (reward - self.min_reward) / (self.max_reward - self.min_reward)\n",
        "        if done:\n",
        "            next_state = self.env.reset()\n",
        "            reward = 1.0\n",
        "        done = False \n",
        "        next_state = self.grid.dpos(next_state)\n",
        "        return next_state, reward, done, info\n",
        "\n",
        "    def reset(self):\n",
        "        state = self.env.reset()\n",
        "        state = self.grid.dpos(state)\n",
        "        return state\n",
        "\n",
        "# Environment\n",
        "n_bins = 10\n",
        "env = DiscretizedMountainCar(n_bins)\n",
        "\n",
        "# Horizon\n",
        "H = 180"
      ],
      "execution_count": 0,
      "outputs": []
    },
    {
      "cell_type": "code",
      "metadata": {
        "id": "7l8433mz7yKh",
        "colab_type": "code",
        "colab": {}
      },
      "source": [
        ""
      ],
      "execution_count": 0,
      "outputs": []
    },
    {
      "cell_type": "markdown",
      "metadata": {
        "id": "hiXHdYle7yKm",
        "colab_type": "text"
      },
      "source": [
        "# Backward induction (aka Value Iteration)"
      ]
    },
    {
      "cell_type": "code",
      "metadata": {
        "id": "Q_KZXn8A7yKo",
        "colab_type": "code",
        "colab": {}
      },
      "source": [
        "def backward_induction(P, R, H):\n",
        "    \"\"\"\n",
        "        Parameters:\n",
        "            P: transition function (S,A,S)-dim matrix\n",
        "            R: reward function (S,A)-dim matrix\n",
        "            H: horizon\n",
        "\n",
        "        Returns:\n",
        "            The optimal V-function: array of shape (horizon, S)\n",
        "            The optimal policy\n",
        "        \n",
        "        V[h, s]\n",
        "    \"\"\"\n",
        "    S, A = P.shape[0], P.shape[1]\n",
        "    policy = np.zeros((H, S), dtype=np.int)\n",
        "    V = np.zeros((H + 1, S))\n",
        "    for h in reversed(range(H)):\n",
        "        for s in range(S):\n",
        "            \"\"\" \n",
        "            Here, we compute V^*(h, s) using the Bellman optimality equation:\n",
        "\n",
        "            V[h, s] = max_a  R[s, a] + sum_{s'} P[s, a, s']*V[h+1, s']\n",
        "            \"\"\"\n",
        "            for a in range(A):\n",
        "                tmp = R[s, a] + np.dot(P[s, a],  V[h + 1])\n",
        "                if (a == 0) or (tmp > V[h, s]):\n",
        "                    policy[h, s] = a\n",
        "                    V[h, s] = tmp\n",
        "    return V, policy"
      ],
      "execution_count": 0,
      "outputs": []
    },
    {
      "cell_type": "markdown",
      "metadata": {
        "id": "pvmhRCN07yKs",
        "colab_type": "text"
      },
      "source": [
        "Compute solution"
      ]
    },
    {
      "cell_type": "markdown",
      "metadata": {
        "id": "v1nCGWuw7yKy",
        "colab_type": "text"
      },
      "source": [
        "## UCBVI (UCRL with exploration bonus)"
      ]
    },
    {
      "cell_type": "code",
      "metadata": {
        "id": "pk0v7jg67yK7",
        "colab_type": "code",
        "colab": {}
      },
      "source": [
        "def UCRL(mdp, H, nb_episodes, VSTAR=0, scale_factor = 2.0):\n",
        "    S, A = mdp.S, mdp.A\n",
        "    policy = np.zeros((H, S), dtype=np.int)\n",
        "    Phat = np.ones((S,A,S)) / S\n",
        "    Rhat = np.zeros((S,A))\n",
        "    N_sas = np.zeros((S,A,S), dtype=np.int)\n",
        "    N_sa = np.zeros((S,A), dtype=np.int)\n",
        "    episode_rewards = np.zeros((nb_episodes,))\n",
        "  \n",
        "    V = H*np.ones((H + 1, S))\n",
        "    V[H, :] = 0\n",
        "\n",
        "    S_sa = np.zeros((S,A)) \n",
        "    for k in range(nb_episodes):\n",
        "        sum_rewards = 0\n",
        "        # run optimistic value iteration\n",
        "        V.fill(0)\n",
        "        for h in reversed(range(H)):\n",
        "            for s in range(S):\n",
        "                temp = np.zeros(A)\n",
        "                for a in range(A):\n",
        "                    nn = N_sa[s, a] + 1\n",
        "                    bonus = scale_factor*np.sqrt(1.0/nn)\n",
        "                    temp[a] = Rhat[s, a] + Phat[s, a].dot(V[h + 1]) + bonus\n",
        "\n",
        "                V[h, s] = min(H-h, temp.max())\n",
        "                policy[h, s] = temp.argmax()\n",
        "        # execute policy\n",
        "        initial_state = state = mdp.reset()\n",
        "        for h in range(H):\n",
        "            action = policy[h][state]\n",
        "            next_state, reward, done, _ = mdp.step(action)\n",
        "\n",
        "            sum_rewards += reward\n",
        "            \n",
        "            # update estimates (Phat, Rhat, N_sa, N_sas)\n",
        "            N_sa[state, action] += 1\n",
        "            N_sas[state, action, next_state] +=1\n",
        "            S_sa[state, action] += reward\n",
        "            \n",
        "            Rhat[state, action] = S_sa[state, action]/N_sa[state, action]\n",
        "            Phat[state, action, :] = N_sas[state, action, :]/N_sa[state, action]\n",
        "\n",
        "            \n",
        "            state = next_state\n",
        "        \n",
        "        # update regret\n",
        "        episode_rewards[k] = sum_rewards\n",
        "        \n",
        "        if k % 5 == 0 or k==1:\n",
        "            print(\"rewards[{}]: {}\".format(k, episode_rewards[k]), end = \", \")\n",
        "            print(\"Number of visited states: \", (N_sa.sum(axis=1) > 0).sum() )\n",
        "            # print(V[0, :])\n",
        "\n",
        "    return episode_rewards, N_sa, Rhat, Phat, policy"
      ],
      "execution_count": 0,
      "outputs": []
    },
    {
      "cell_type": "code",
      "metadata": {
        "id": "0-UTr3Gq7yK_",
        "colab_type": "code",
        "outputId": "816122ac-aa7b-410e-bf11-0cf6b1d65095",
        "colab": {
          "base_uri": "https://localhost:8080/",
          "height": 221
        }
      },
      "source": [
        "nb_repetitions = 1\n",
        "nb_episodes = 50\n",
        "rewards = np.zeros((nb_repetitions, nb_episodes))\n",
        "for it in range(nb_repetitions):\n",
        "    print(\"Running simulation: {}\".format(it))\n",
        "    rewards[it], N_sa, Rhat, Phat, policy = UCRL(mdp=env, H=H, nb_episodes=nb_episodes)"
      ],
      "execution_count": 19,
      "outputs": [
        {
          "output_type": "stream",
          "text": [
            "Running simulation: 0\n",
            "rewards[0]: 0.0, Number of visited states:  7\n",
            "rewards[1]: 0.0, Number of visited states:  7\n",
            "rewards[5]: 0.0, Number of visited states:  10\n",
            "rewards[10]: 0.0, Number of visited states:  32\n",
            "rewards[15]: 0.0, Number of visited states:  47\n",
            "rewards[20]: 0.0, Number of visited states:  58\n",
            "rewards[25]: 0.0, Number of visited states:  60\n",
            "rewards[30]: 1.0, Number of visited states:  60\n",
            "rewards[35]: 0.0, Number of visited states:  60\n",
            "rewards[40]: 0.0, Number of visited states:  60\n",
            "rewards[45]: 0.0, Number of visited states:  62\n"
          ],
          "name": "stdout"
        }
      ]
    },
    {
      "cell_type": "code",
      "metadata": {
        "id": "defhQH1NNQUD",
        "colab_type": "code",
        "outputId": "c889135f-cb00-446e-f6b5-5e4c1376c26a",
        "colab": {
          "base_uri": "https://localhost:8080/",
          "height": 282
        }
      },
      "source": [
        "plt.plot(np.cumsum(rewards), label=\"Sum of rewards:\")\n",
        "plt.legend()"
      ],
      "execution_count": 20,
      "outputs": [
        {
          "output_type": "execute_result",
          "data": {
            "text/plain": [
              "<matplotlib.legend.Legend at 0x7ff38c4bcc18>"
            ]
          },
          "metadata": {
            "tags": []
          },
          "execution_count": 20
        },
        {
          "output_type": "display_data",
          "data": {
            "image/png": "[encoded data removed]",
            "text/plain": [
              "<Figure size 432x288 with 1 Axes>"
            ]
          },
          "metadata": {
            "tags": []
          }
        }
      ]
    },
    {
      "cell_type": "code",
      "metadata": {
        "id": "uhDoPAA5YCLJ",
        "colab_type": "code",
        "outputId": "babd47ef-58bb-46f4-b70a-650242ad7b40",
        "colab": {
          "base_uri": "https://localhost:8080/",
          "height": 438
        }
      },
      "source": [
        "# The following code is will be used to visualize the environments.\n",
        "def show_video(directory):\n",
        "    html = []\n",
        "    for mp4 in Path(directory).glob(\"*.mp4\"):\n",
        "        video_b64 = base64.b64encode(mp4.read_bytes())\n",
        "        html.append('''<video alt=\"{}\" autoplay \n",
        "                      loop controls style=\"height: 400px;\">\n",
        "                      <source src=\"data:video/mp4;base64,{}\" type=\"video/mp4\" />\n",
        "                 </video>'''.format(mp4, video_b64.decode('ascii')))\n",
        "    ipythondisplay.display(ipythondisplay.HTML(data=\"<br>\".join(html)))\n",
        "    \n",
        "def make_seed(seed):\n",
        "    np.random.seed(seed=seed)\n",
        "    torch.manual_seed(seed=seed)\n",
        "  \n",
        "from pyvirtualdisplay import Display\n",
        "display = Display(visible=0, size=(1400, 900))\n",
        "display.start()\n",
        "\n",
        "env = Monitor(env, \"./gym-results\", force=True, video_callable=lambda episode: True)\n",
        "\n",
        "state = env.reset()\n",
        "for hh in range(H): \n",
        "    action = policy[hh, state]\n",
        "    state, reward, done, info = env.step(action)\n",
        "env.close()\n",
        "show_video(\"./gym-results\")"
      ],
      "execution_count": 21,
      "outputs": [
        {
          "output_type": "stream",
          "text": [
            "xdpyinfo was not found, X start can not be checked! Please install xdpyinfo!\n"
          ],
          "name": "stderr"
        },
        {
          "output_type": "display_data",
          "data": {
            "text/html": [
              "<video alt=\"gym-results/openaigym.video.3.868.video000000.mp4\" autoplay \n",
              "                      loop controls style=\"height: 400px;\">\n",
              "                      <source src=\"data:video/mp4;base64,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\" type=\"video/mp4\" />\n",
              "                 </video>"
            ],
            "text/plain": [
              "<IPython.core.display.HTML object>"
            ]
          },
          "metadata": {
            "tags": []
          }
        }
      ]
    },
    {
      "cell_type": "code",
      "metadata": {
        "id": "qy-sH7conNZj",
        "colab_type": "code",
        "colab": {}
      },
      "source": [
        ""
      ],
      "execution_count": 0,
      "outputs": []
    }
  ]
}